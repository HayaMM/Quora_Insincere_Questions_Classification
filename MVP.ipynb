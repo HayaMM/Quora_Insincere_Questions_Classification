{
 "cells": [
  {
   "cell_type": "markdown",
   "id": "5de8a77d",
   "metadata": {},
   "source": [
    "# Quora Insincere Questions Classification\n",
    "\n",
    "For this project, we need to identify the disparity between sincere and insincere questions.\n",
    "\n",
    "![Check target balanced or not](https://files.fm/thumb_show.php?i=4sye8728e)\n"
   ]
  },
  {
   "cell_type": "markdown",
   "id": "6c9ef968",
   "metadata": {},
   "source": [
    "**To exploring the balance we used catplot with our target feature.\n",
    "The figure depicts that the disparity is large, and the sincere questions is much more than insincere questions, so, it is <mark>unbalanced</mark>.** "
   ]
  },
  {
   "cell_type": "code",
   "execution_count": null,
   "id": "648ac7ea",
   "metadata": {},
   "outputs": [],
   "source": []
  }
 ],
 "metadata": {
  "kernelspec": {
   "display_name": "Python 3 (ipykernel)",
   "language": "python",
   "name": "python3"
  },
  "language_info": {
   "codemirror_mode": {
    "name": "ipython",
    "version": 3
   },
   "file_extension": ".py",
   "mimetype": "text/x-python",
   "name": "python",
   "nbconvert_exporter": "python",
   "pygments_lexer": "ipython3",
   "version": "3.9.7"
  }
 },
 "nbformat": 4,
 "nbformat_minor": 5
}
