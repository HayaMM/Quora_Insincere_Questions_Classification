{
  "cells": [
    {
      "cell_type": "markdown",
      "id": "b292c0dd",
      "metadata": {
        "id": "b292c0dd"
      },
      "source": [
        "# Step 0: Import Libraries"
      ]
    },
    {
      "cell_type": "code",
      "execution_count": 2,
      "id": "b608a5dd",
      "metadata": {
        "id": "b608a5dd"
      },
      "outputs": [],
      "source": [
        "import numpy as np\n",
        "import pandas as pd\n",
        "import seaborn as sns\n",
        "from sklearn.linear_model import LogisticRegression\n",
        "import matplotlib.pyplot as plt\n",
        "from nltk.stem.porter import PorterStemmer\n",
        "import warnings\n",
        "\n",
        "warnings.simplefilter(action='ignore', category=FutureWarning)\n",
        "warnings.simplefilter(action='ignore', category=UserWarning)\n",
        "sns.set(style=\"white\")\n",
        "%matplotlib inline"
      ]
    },
    {
      "cell_type": "markdown",
      "id": "e675a8dc",
      "metadata": {
        "id": "e675a8dc"
      },
      "source": [
        "# Step 1: Read the Dataset"
      ]
    },
    {
      "cell_type": "code",
      "execution_count": 4,
      "id": "b3f82f77",
      "metadata": {
        "id": "b3f82f77"
      },
      "outputs": [],
      "source": [
        "df = pd.read_csv(\"clean_lem_stemmed_train_data.csv\")"
      ]
    },
    {
      "cell_type": "code",
      "execution_count": null,
      "id": "1bd480eb",
      "metadata": {
        "id": "1bd480eb",
        "outputId": "83f73c31-3654-4384-be67-37243e1f2d86"
      },
      "outputs": [
        {
          "data": {
            "text/html": [
              "<div>\n",
              "<style scoped>\n",
              "    .dataframe tbody tr th:only-of-type {\n",
              "        vertical-align: middle;\n",
              "    }\n",
              "\n",
              "    .dataframe tbody tr th {\n",
              "        vertical-align: top;\n",
              "    }\n",
              "\n",
              "    .dataframe thead th {\n",
              "        text-align: right;\n",
              "    }\n",
              "</style>\n",
              "<table border=\"1\" class=\"dataframe\">\n",
              "  <thead>\n",
              "    <tr style=\"text-align: right;\">\n",
              "      <th></th>\n",
              "      <th>Unnamed: 0</th>\n",
              "      <th>qid</th>\n",
              "      <th>question_text</th>\n",
              "      <th>target</th>\n",
              "    </tr>\n",
              "  </thead>\n",
              "  <tbody>\n",
              "    <tr>\n",
              "      <th>0</th>\n",
              "      <td>0</td>\n",
              "      <td>00002165364db923c7e6</td>\n",
              "      <td>how did quebec nationalists see their province...</td>\n",
              "      <td>0</td>\n",
              "    </tr>\n",
              "    <tr>\n",
              "      <th>1</th>\n",
              "      <td>1</td>\n",
              "      <td>000032939017120e6e44</td>\n",
              "      <td>do you have an adopted dog how would you encou...</td>\n",
              "      <td>0</td>\n",
              "    </tr>\n",
              "    <tr>\n",
              "      <th>2</th>\n",
              "      <td>2</td>\n",
              "      <td>0000412ca6e4628ce2cf</td>\n",
              "      <td>why does velocity affect time does velocity af...</td>\n",
              "      <td>0</td>\n",
              "    </tr>\n",
              "    <tr>\n",
              "      <th>3</th>\n",
              "      <td>3</td>\n",
              "      <td>000042bf85aa498cd78e</td>\n",
              "      <td>how did otto von guericke used the magdeburg h...</td>\n",
              "      <td>0</td>\n",
              "    </tr>\n",
              "    <tr>\n",
              "      <th>4</th>\n",
              "      <td>4</td>\n",
              "      <td>0000455dfa3e01eae3af</td>\n",
              "      <td>can i convert montra helicon d to a mountain b...</td>\n",
              "      <td>0</td>\n",
              "    </tr>\n",
              "  </tbody>\n",
              "</table>\n",
              "</div>"
            ],
            "text/plain": [
              "   Unnamed: 0                   qid  \\\n",
              "0           0  00002165364db923c7e6   \n",
              "1           1  000032939017120e6e44   \n",
              "2           2  0000412ca6e4628ce2cf   \n",
              "3           3  000042bf85aa498cd78e   \n",
              "4           4  0000455dfa3e01eae3af   \n",
              "\n",
              "                                       question_text  target  \n",
              "0  how did quebec nationalists see their province...       0  \n",
              "1  do you have an adopted dog how would you encou...       0  \n",
              "2  why does velocity affect time does velocity af...       0  \n",
              "3  how did otto von guericke used the magdeburg h...       0  \n",
              "4  can i convert montra helicon d to a mountain b...       0  "
            ]
          },
          "execution_count": 18,
          "metadata": {},
          "output_type": "execute_result"
        }
      ],
      "source": [
        "df.head()"
      ]
    },
    {
      "cell_type": "code",
      "execution_count": null,
      "id": "bf9c3b6a",
      "metadata": {
        "id": "bf9c3b6a",
        "outputId": "97c7cc70-043a-4df4-fcfa-ceb860a0e722"
      },
      "outputs": [
        {
          "name": "stdout",
          "output_type": "stream",
          "text": [
            "<class 'pandas.core.frame.DataFrame'>\n",
            "RangeIndex: 1306122 entries, 0 to 1306121\n",
            "Data columns (total 4 columns):\n",
            " #   Column         Non-Null Count    Dtype \n",
            "---  ------         --------------    ----- \n",
            " 0   Unnamed: 0     1306122 non-null  int64 \n",
            " 1   qid            1306122 non-null  object\n",
            " 2   question_text  1306121 non-null  object\n",
            " 3   target         1306122 non-null  int64 \n",
            "dtypes: int64(2), object(2)\n",
            "memory usage: 39.9+ MB\n"
          ]
        }
      ],
      "source": [
        "df.info()"
      ]
    },
    {
      "cell_type": "markdown",
      "id": "b25e067a",
      "metadata": {
        "id": "b25e067a"
      },
      "source": [
        "# Step 2: Preprocessing / Cleaning Data"
      ]
    },
    {
      "cell_type": "markdown",
      "id": "5ae3f45d",
      "metadata": {
        "id": "5ae3f45d"
      },
      "source": [
        "## A. Rows:\n",
        "- Check missing\n",
        "- Check Null Value\n",
        "- Check Formats\n",
        "- Check Duplicates\n",
        "- Check Data Ranges\n",
        "- Clean text (remove numbers, punctuations,stop words and convert to lowercase)"
      ]
    },
    {
      "cell_type": "code",
      "execution_count": null,
      "id": "68ee55ee",
      "metadata": {
        "id": "68ee55ee",
        "outputId": "8865aa16-3671-4539-c4f3-f62fc52647bf"
      },
      "outputs": [
        {
          "data": {
            "text/plain": [
              "Unnamed: 0       0\n",
              "qid              0\n",
              "question_text    1\n",
              "target           0\n",
              "dtype: int64"
            ]
          },
          "execution_count": 111,
          "metadata": {},
          "output_type": "execute_result"
        }
      ],
      "source": [
        "# Check total number of missing cells\n",
        "df.isna().sum()"
      ]
    },
    {
      "cell_type": "code",
      "execution_count": null,
      "id": "5634be51",
      "metadata": {
        "id": "5634be51",
        "outputId": "5ec0d10e-cb59-409a-beaf-b01b57f8906c"
      },
      "outputs": [
        {
          "data": {
            "text/plain": [
              "Unnamed: 0       0.00000\n",
              "qid              0.00000\n",
              "question_text    0.00008\n",
              "target           0.00000\n",
              "dtype: float64"
            ]
          },
          "execution_count": 112,
          "metadata": {},
          "output_type": "execute_result"
        }
      ],
      "source": [
        "# Check Missing Percentage in each column\n",
        "round((df.isna().sum() / 1306122)* 100, 5)"
      ]
    },
    {
      "cell_type": "code",
      "execution_count": 5,
      "id": "541ee7ab",
      "metadata": {
        "colab": {
          "base_uri": "https://localhost:8080/"
        },
        "id": "541ee7ab",
        "outputId": "694617fa-28b8-454b-c8e0-880e061aec40"
      },
      "outputs": [
        {
          "output_type": "execute_result",
          "data": {
            "text/plain": [
              "Unnamed: 0       0\n",
              "qid              0\n",
              "question_text    1\n",
              "target           0\n",
              "dtype: int64"
            ]
          },
          "metadata": {},
          "execution_count": 5
        }
      ],
      "source": [
        "# double check for missing \n",
        "df.replace([\"#\",\"*\",'NA','N/A','?',''],np.nan).isna().sum()"
      ]
    },
    {
      "cell_type": "code",
      "execution_count": null,
      "id": "9764567c",
      "metadata": {
        "id": "9764567c",
        "outputId": "8e82a592-5fca-406b-9608-d366373ec1a4"
      },
      "outputs": [
        {
          "data": {
            "text/plain": [
              "1"
            ]
          },
          "execution_count": 5,
          "metadata": {},
          "output_type": "execute_result"
        }
      ],
      "source": [
        "df.question_text.isna().sum()\n",
        "# there a missing in question_text column"
      ]
    },
    {
      "cell_type": "code",
      "execution_count": null,
      "id": "4a72565c",
      "metadata": {
        "id": "4a72565c",
        "outputId": "f1b239ab-1cc7-4aca-fbcf-68c8f92e72d7"
      },
      "outputs": [
        {
          "data": {
            "text/html": [
              "<div>\n",
              "<style scoped>\n",
              "    .dataframe tbody tr th:only-of-type {\n",
              "        vertical-align: middle;\n",
              "    }\n",
              "\n",
              "    .dataframe tbody tr th {\n",
              "        vertical-align: top;\n",
              "    }\n",
              "\n",
              "    .dataframe thead th {\n",
              "        text-align: right;\n",
              "    }\n",
              "</style>\n",
              "<table border=\"1\" class=\"dataframe\">\n",
              "  <thead>\n",
              "    <tr style=\"text-align: right;\">\n",
              "      <th></th>\n",
              "      <th>Unnamed: 0</th>\n",
              "      <th>qid</th>\n",
              "      <th>question_text</th>\n",
              "      <th>target</th>\n",
              "    </tr>\n",
              "  </thead>\n",
              "  <tbody>\n",
              "    <tr>\n",
              "      <th>420816</th>\n",
              "      <td>420816</td>\n",
              "      <td>527aac2ce6f12f789fe5</td>\n",
              "      <td>NaN</td>\n",
              "      <td>1</td>\n",
              "    </tr>\n",
              "  </tbody>\n",
              "</table>\n",
              "</div>"
            ],
            "text/plain": [
              "        Unnamed: 0                   qid question_text  target\n",
              "420816      420816  527aac2ce6f12f789fe5           NaN       1"
            ]
          },
          "execution_count": 115,
          "metadata": {},
          "output_type": "execute_result"
        }
      ],
      "source": [
        "# We found the missing value in row number 420816 \n",
        "null_data = df[df.isna().any(axis=1)]\n",
        "null_data "
      ]
    },
    {
      "cell_type": "code",
      "execution_count": null,
      "id": "89a25054",
      "metadata": {
        "id": "89a25054",
        "outputId": "92f131df-0d8f-4567-988f-2fb4f17b60aa"
      },
      "outputs": [
        {
          "data": {
            "text/html": [
              "<div>\n",
              "<style scoped>\n",
              "    .dataframe tbody tr th:only-of-type {\n",
              "        vertical-align: middle;\n",
              "    }\n",
              "\n",
              "    .dataframe tbody tr th {\n",
              "        vertical-align: top;\n",
              "    }\n",
              "\n",
              "    .dataframe thead th {\n",
              "        text-align: right;\n",
              "    }\n",
              "</style>\n",
              "<table border=\"1\" class=\"dataframe\">\n",
              "  <thead>\n",
              "    <tr style=\"text-align: right;\">\n",
              "      <th></th>\n",
              "      <th>Unnamed: 0</th>\n",
              "      <th>qid</th>\n",
              "      <th>question_text</th>\n",
              "      <th>target</th>\n",
              "    </tr>\n",
              "  </thead>\n",
              "  <tbody>\n",
              "    <tr>\n",
              "      <th>420816</th>\n",
              "      <td>420816</td>\n",
              "      <td>527aac2ce6f12f789fe5</td>\n",
              "      <td>NaN</td>\n",
              "      <td>1</td>\n",
              "    </tr>\n",
              "  </tbody>\n",
              "</table>\n",
              "</div>"
            ],
            "text/plain": [
              "        Unnamed: 0                   qid question_text  target\n",
              "420816      420816  527aac2ce6f12f789fe5           NaN       1"
            ]
          },
          "execution_count": 116,
          "metadata": {},
          "output_type": "execute_result"
        }
      ],
      "source": [
        "# We found the null value in row number 420816 \n",
        "null_data = df[df.isnull().any(axis=1)]\n",
        "null_data "
      ]
    },
    {
      "cell_type": "code",
      "execution_count": 6,
      "id": "ccdf9e80",
      "metadata": {
        "colab": {
          "base_uri": "https://localhost:8080/",
          "height": 423
        },
        "id": "ccdf9e80",
        "outputId": "7d1809f2-2a4b-433a-af91-e8eb1f1940f9"
      },
      "outputs": [
        {
          "output_type": "execute_result",
          "data": {
            "text/html": [
              "\n",
              "  <div id=\"df-40abf679-15ff-48df-a1f6-3263d18282d0\">\n",
              "    <div class=\"colab-df-container\">\n",
              "      <div>\n",
              "<style scoped>\n",
              "    .dataframe tbody tr th:only-of-type {\n",
              "        vertical-align: middle;\n",
              "    }\n",
              "\n",
              "    .dataframe tbody tr th {\n",
              "        vertical-align: top;\n",
              "    }\n",
              "\n",
              "    .dataframe thead th {\n",
              "        text-align: right;\n",
              "    }\n",
              "</style>\n",
              "<table border=\"1\" class=\"dataframe\">\n",
              "  <thead>\n",
              "    <tr style=\"text-align: right;\">\n",
              "      <th></th>\n",
              "      <th>Unnamed: 0</th>\n",
              "      <th>qid</th>\n",
              "      <th>question_text</th>\n",
              "      <th>target</th>\n",
              "    </tr>\n",
              "  </thead>\n",
              "  <tbody>\n",
              "    <tr>\n",
              "      <th>0</th>\n",
              "      <td>0</td>\n",
              "      <td>00002165364db923c7e6</td>\n",
              "      <td>how did quebec nationalists see their province...</td>\n",
              "      <td>0</td>\n",
              "    </tr>\n",
              "    <tr>\n",
              "      <th>1</th>\n",
              "      <td>1</td>\n",
              "      <td>000032939017120e6e44</td>\n",
              "      <td>do you have an adopted dog how would you encou...</td>\n",
              "      <td>0</td>\n",
              "    </tr>\n",
              "    <tr>\n",
              "      <th>2</th>\n",
              "      <td>2</td>\n",
              "      <td>0000412ca6e4628ce2cf</td>\n",
              "      <td>why does velocity affect time does velocity af...</td>\n",
              "      <td>0</td>\n",
              "    </tr>\n",
              "    <tr>\n",
              "      <th>3</th>\n",
              "      <td>3</td>\n",
              "      <td>000042bf85aa498cd78e</td>\n",
              "      <td>how did otto von guericke used the magdeburg h...</td>\n",
              "      <td>0</td>\n",
              "    </tr>\n",
              "    <tr>\n",
              "      <th>4</th>\n",
              "      <td>4</td>\n",
              "      <td>0000455dfa3e01eae3af</td>\n",
              "      <td>can i convert montra helicon d to a mountain b...</td>\n",
              "      <td>0</td>\n",
              "    </tr>\n",
              "    <tr>\n",
              "      <th>...</th>\n",
              "      <td>...</td>\n",
              "      <td>...</td>\n",
              "      <td>...</td>\n",
              "      <td>...</td>\n",
              "    </tr>\n",
              "    <tr>\n",
              "      <th>1306117</th>\n",
              "      <td>1306117</td>\n",
              "      <td>ffffcc4e2331aaf1e41e</td>\n",
              "      <td>what other technical skills do you need as a c...</td>\n",
              "      <td>0</td>\n",
              "    </tr>\n",
              "    <tr>\n",
              "      <th>1306118</th>\n",
              "      <td>1306118</td>\n",
              "      <td>ffffd431801e5a2f4861</td>\n",
              "      <td>does ms in ece have good job prospects in usa ...</td>\n",
              "      <td>0</td>\n",
              "    </tr>\n",
              "    <tr>\n",
              "      <th>1306119</th>\n",
              "      <td>1306119</td>\n",
              "      <td>ffffd48fb36b63db010c</td>\n",
              "      <td>is foam insulation toxic</td>\n",
              "      <td>0</td>\n",
              "    </tr>\n",
              "    <tr>\n",
              "      <th>1306120</th>\n",
              "      <td>1306120</td>\n",
              "      <td>ffffec519fa37cf60c78</td>\n",
              "      <td>how can one start a research project based on ...</td>\n",
              "      <td>0</td>\n",
              "    </tr>\n",
              "    <tr>\n",
              "      <th>1306121</th>\n",
              "      <td>1306121</td>\n",
              "      <td>ffffed09fedb5088744a</td>\n",
              "      <td>who wins in a battle between a wolverine and a...</td>\n",
              "      <td>0</td>\n",
              "    </tr>\n",
              "  </tbody>\n",
              "</table>\n",
              "<p>1306121 rows × 4 columns</p>\n",
              "</div>\n",
              "      <button class=\"colab-df-convert\" onclick=\"convertToInteractive('df-40abf679-15ff-48df-a1f6-3263d18282d0')\"\n",
              "              title=\"Convert this dataframe to an interactive table.\"\n",
              "              style=\"display:none;\">\n",
              "        \n",
              "  <svg xmlns=\"http://www.w3.org/2000/svg\" height=\"24px\"viewBox=\"0 0 24 24\"\n",
              "       width=\"24px\">\n",
              "    <path d=\"M0 0h24v24H0V0z\" fill=\"none\"/>\n",
              "    <path d=\"M18.56 5.44l.94 2.06.94-2.06 2.06-.94-2.06-.94-.94-2.06-.94 2.06-2.06.94zm-11 1L8.5 8.5l.94-2.06 2.06-.94-2.06-.94L8.5 2.5l-.94 2.06-2.06.94zm10 10l.94 2.06.94-2.06 2.06-.94-2.06-.94-.94-2.06-.94 2.06-2.06.94z\"/><path d=\"M17.41 7.96l-1.37-1.37c-.4-.4-.92-.59-1.43-.59-.52 0-1.04.2-1.43.59L10.3 9.45l-7.72 7.72c-.78.78-.78 2.05 0 2.83L4 21.41c.39.39.9.59 1.41.59.51 0 1.02-.2 1.41-.59l7.78-7.78 2.81-2.81c.8-.78.8-2.07 0-2.86zM5.41 20L4 18.59l7.72-7.72 1.47 1.35L5.41 20z\"/>\n",
              "  </svg>\n",
              "      </button>\n",
              "      \n",
              "  <style>\n",
              "    .colab-df-container {\n",
              "      display:flex;\n",
              "      flex-wrap:wrap;\n",
              "      gap: 12px;\n",
              "    }\n",
              "\n",
              "    .colab-df-convert {\n",
              "      background-color: #E8F0FE;\n",
              "      border: none;\n",
              "      border-radius: 50%;\n",
              "      cursor: pointer;\n",
              "      display: none;\n",
              "      fill: #1967D2;\n",
              "      height: 32px;\n",
              "      padding: 0 0 0 0;\n",
              "      width: 32px;\n",
              "    }\n",
              "\n",
              "    .colab-df-convert:hover {\n",
              "      background-color: #E2EBFA;\n",
              "      box-shadow: 0px 1px 2px rgba(60, 64, 67, 0.3), 0px 1px 3px 1px rgba(60, 64, 67, 0.15);\n",
              "      fill: #174EA6;\n",
              "    }\n",
              "\n",
              "    [theme=dark] .colab-df-convert {\n",
              "      background-color: #3B4455;\n",
              "      fill: #D2E3FC;\n",
              "    }\n",
              "\n",
              "    [theme=dark] .colab-df-convert:hover {\n",
              "      background-color: #434B5C;\n",
              "      box-shadow: 0px 1px 3px 1px rgba(0, 0, 0, 0.15);\n",
              "      filter: drop-shadow(0px 1px 2px rgba(0, 0, 0, 0.3));\n",
              "      fill: #FFFFFF;\n",
              "    }\n",
              "  </style>\n",
              "\n",
              "      <script>\n",
              "        const buttonEl =\n",
              "          document.querySelector('#df-40abf679-15ff-48df-a1f6-3263d18282d0 button.colab-df-convert');\n",
              "        buttonEl.style.display =\n",
              "          google.colab.kernel.accessAllowed ? 'block' : 'none';\n",
              "\n",
              "        async function convertToInteractive(key) {\n",
              "          const element = document.querySelector('#df-40abf679-15ff-48df-a1f6-3263d18282d0');\n",
              "          const dataTable =\n",
              "            await google.colab.kernel.invokeFunction('convertToInteractive',\n",
              "                                                     [key], {});\n",
              "          if (!dataTable) return;\n",
              "\n",
              "          const docLinkHtml = 'Like what you see? Visit the ' +\n",
              "            '<a target=\"_blank\" href=https://colab.research.google.com/notebooks/data_table.ipynb>data table notebook</a>'\n",
              "            + ' to learn more about interactive tables.';\n",
              "          element.innerHTML = '';\n",
              "          dataTable['output_type'] = 'display_data';\n",
              "          await google.colab.output.renderOutput(dataTable, element);\n",
              "          const docLink = document.createElement('div');\n",
              "          docLink.innerHTML = docLinkHtml;\n",
              "          element.appendChild(docLink);\n",
              "        }\n",
              "      </script>\n",
              "    </div>\n",
              "  </div>\n",
              "  "
            ],
            "text/plain": [
              "         Unnamed: 0  ... target\n",
              "0                 0  ...      0\n",
              "1                 1  ...      0\n",
              "2                 2  ...      0\n",
              "3                 3  ...      0\n",
              "4                 4  ...      0\n",
              "...             ...  ...    ...\n",
              "1306117     1306117  ...      0\n",
              "1306118     1306118  ...      0\n",
              "1306119     1306119  ...      0\n",
              "1306120     1306120  ...      0\n",
              "1306121     1306121  ...      0\n",
              "\n",
              "[1306121 rows x 4 columns]"
            ]
          },
          "metadata": {},
          "execution_count": 6
        }
      ],
      "source": [
        "# We create null_data to remove the missing value from our dataset\n",
        "null_data = df.drop(labels=420816, axis=0)\n",
        "null_data"
      ]
    },
    {
      "cell_type": "code",
      "execution_count": null,
      "id": "c7267226",
      "metadata": {
        "id": "c7267226",
        "outputId": "580d306a-66c8-4757-9ad7-cc8afbf6ee8a"
      },
      "outputs": [
        {
          "data": {
            "text/plain": [
              "Unnamed: 0       0\n",
              "qid              0\n",
              "question_text    0\n",
              "target           0\n",
              "dtype: int64"
            ]
          },
          "execution_count": 21,
          "metadata": {},
          "output_type": "execute_result"
        }
      ],
      "source": [
        "# check for missing again\n",
        "null_data.isna().sum()"
      ]
    },
    {
      "cell_type": "code",
      "execution_count": null,
      "id": "27ffa317",
      "metadata": {
        "id": "27ffa317",
        "outputId": "723842f2-47d5-4c06-cf83-d66d57b3836d"
      },
      "outputs": [
        {
          "data": {
            "text/plain": [
              "Unnamed: 0        int64\n",
              "qid              object\n",
              "question_text    object\n",
              "target            int64\n",
              "dtype: object"
            ]
          },
          "execution_count": 120,
          "metadata": {},
          "output_type": "execute_result"
        }
      ],
      "source": [
        "# check format\n",
        "null_data.dtypes"
      ]
    },
    {
      "cell_type": "code",
      "execution_count": null,
      "id": "04638730",
      "metadata": {
        "id": "04638730",
        "outputId": "982576d1-0f6a-44d2-d4eb-b46eaef5da01"
      },
      "outputs": [
        {
          "data": {
            "text/plain": [
              "0"
            ]
          },
          "execution_count": 121,
          "metadata": {},
          "output_type": "execute_result"
        }
      ],
      "source": [
        "# Check duplicates\n",
        "null_data.duplicated().sum()"
      ]
    },
    {
      "cell_type": "code",
      "execution_count": null,
      "id": "3a7611bb",
      "metadata": {
        "id": "3a7611bb",
        "outputId": "ca208d81-742d-43eb-e4a9-ea3256d06159"
      },
      "outputs": [
        {
          "data": {
            "text/plain": [
              "<bound method NDFrame.describe of          Unnamed: 0                   qid  \\\n",
              "0                 0  00002165364db923c7e6   \n",
              "1                 1  000032939017120e6e44   \n",
              "2                 2  0000412ca6e4628ce2cf   \n",
              "3                 3  000042bf85aa498cd78e   \n",
              "4                 4  0000455dfa3e01eae3af   \n",
              "...             ...                   ...   \n",
              "1306117     1306117  ffffcc4e2331aaf1e41e   \n",
              "1306118     1306118  ffffd431801e5a2f4861   \n",
              "1306119     1306119  ffffd48fb36b63db010c   \n",
              "1306120     1306120  ffffec519fa37cf60c78   \n",
              "1306121     1306121  ffffed09fedb5088744a   \n",
              "\n",
              "                                             question_text  target  \n",
              "0        how did quebec nationalists see their province...       0  \n",
              "1        do you have an adopted dog how would you encou...       0  \n",
              "2        why does velocity affect time does velocity af...       0  \n",
              "3        how did otto von guericke used the magdeburg h...       0  \n",
              "4        can i convert montra helicon d to a mountain b...       0  \n",
              "...                                                    ...     ...  \n",
              "1306117  what other technical skills do you need as a c...       0  \n",
              "1306118  does ms in ece have good job prospects in usa ...       0  \n",
              "1306119                           is foam insulation toxic       0  \n",
              "1306120  how can one start a research project based on ...       0  \n",
              "1306121  who wins in a battle between a wolverine and a...       0  \n",
              "\n",
              "[1306122 rows x 4 columns]>"
            ]
          },
          "execution_count": 122,
          "metadata": {},
          "output_type": "execute_result"
        }
      ],
      "source": [
        "# Check Data Ranges \n",
        "# A. Numeric\n",
        "null_data.describe"
      ]
    },
    {
      "cell_type": "code",
      "execution_count": null,
      "id": "3508b568",
      "metadata": {
        "id": "3508b568",
        "outputId": "605195ae-12e2-48fe-a618-03a053a1afa5"
      },
      "outputs": [
        {
          "data": {
            "text/html": [
              "<div>\n",
              "<style scoped>\n",
              "    .dataframe tbody tr th:only-of-type {\n",
              "        vertical-align: middle;\n",
              "    }\n",
              "\n",
              "    .dataframe tbody tr th {\n",
              "        vertical-align: top;\n",
              "    }\n",
              "\n",
              "    .dataframe thead th {\n",
              "        text-align: right;\n",
              "    }\n",
              "</style>\n",
              "<table border=\"1\" class=\"dataframe\">\n",
              "  <thead>\n",
              "    <tr style=\"text-align: right;\">\n",
              "      <th></th>\n",
              "      <th>qid</th>\n",
              "      <th>question_text</th>\n",
              "    </tr>\n",
              "  </thead>\n",
              "  <tbody>\n",
              "    <tr>\n",
              "      <th>count</th>\n",
              "      <td>1306122</td>\n",
              "      <td>1306121</td>\n",
              "    </tr>\n",
              "    <tr>\n",
              "      <th>unique</th>\n",
              "      <td>1306122</td>\n",
              "      <td>1304736</td>\n",
              "    </tr>\n",
              "    <tr>\n",
              "      <th>top</th>\n",
              "      <td>00002165364db923c7e6</td>\n",
              "      <td>what is</td>\n",
              "    </tr>\n",
              "    <tr>\n",
              "      <th>freq</th>\n",
              "      <td>1</td>\n",
              "      <td>129</td>\n",
              "    </tr>\n",
              "  </tbody>\n",
              "</table>\n",
              "</div>"
            ],
            "text/plain": [
              "                         qid question_text\n",
              "count                1306122       1306121\n",
              "unique               1306122       1304736\n",
              "top     00002165364db923c7e6      what is \n",
              "freq                       1           129"
            ]
          },
          "execution_count": 123,
          "metadata": {},
          "output_type": "execute_result"
        }
      ],
      "source": [
        "# A. Categoricals\n",
        "round(null_data.describe(exclude = \"number\"))"
      ]
    },
    {
      "cell_type": "code",
      "execution_count": 7,
      "id": "6bf975e8",
      "metadata": {
        "colab": {
          "base_uri": "https://localhost:8080/",
          "height": 206
        },
        "id": "6bf975e8",
        "outputId": "9e31b2f4-92ce-4ea7-8d20-b75837c02221"
      },
      "outputs": [
        {
          "output_type": "execute_result",
          "data": {
            "text/html": [
              "\n",
              "  <div id=\"df-68534e40-c43e-49f2-939f-19ab73e22ac2\">\n",
              "    <div class=\"colab-df-container\">\n",
              "      <div>\n",
              "<style scoped>\n",
              "    .dataframe tbody tr th:only-of-type {\n",
              "        vertical-align: middle;\n",
              "    }\n",
              "\n",
              "    .dataframe tbody tr th {\n",
              "        vertical-align: top;\n",
              "    }\n",
              "\n",
              "    .dataframe thead th {\n",
              "        text-align: right;\n",
              "    }\n",
              "</style>\n",
              "<table border=\"1\" class=\"dataframe\">\n",
              "  <thead>\n",
              "    <tr style=\"text-align: right;\">\n",
              "      <th></th>\n",
              "      <th>Unnamed: 0</th>\n",
              "      <th>qid</th>\n",
              "      <th>question_text</th>\n",
              "      <th>target</th>\n",
              "      <th>qtype</th>\n",
              "    </tr>\n",
              "  </thead>\n",
              "  <tbody>\n",
              "    <tr>\n",
              "      <th>0</th>\n",
              "      <td>0</td>\n",
              "      <td>00002165364db923c7e6</td>\n",
              "      <td>how did quebec nationalists see their province...</td>\n",
              "      <td>0</td>\n",
              "      <td>sincere</td>\n",
              "    </tr>\n",
              "    <tr>\n",
              "      <th>1</th>\n",
              "      <td>1</td>\n",
              "      <td>000032939017120e6e44</td>\n",
              "      <td>do you have an adopted dog how would you encou...</td>\n",
              "      <td>0</td>\n",
              "      <td>sincere</td>\n",
              "    </tr>\n",
              "    <tr>\n",
              "      <th>2</th>\n",
              "      <td>2</td>\n",
              "      <td>0000412ca6e4628ce2cf</td>\n",
              "      <td>why does velocity affect time does velocity af...</td>\n",
              "      <td>0</td>\n",
              "      <td>sincere</td>\n",
              "    </tr>\n",
              "    <tr>\n",
              "      <th>3</th>\n",
              "      <td>3</td>\n",
              "      <td>000042bf85aa498cd78e</td>\n",
              "      <td>how did otto von guericke used the magdeburg h...</td>\n",
              "      <td>0</td>\n",
              "      <td>sincere</td>\n",
              "    </tr>\n",
              "    <tr>\n",
              "      <th>4</th>\n",
              "      <td>4</td>\n",
              "      <td>0000455dfa3e01eae3af</td>\n",
              "      <td>can i convert montra helicon d to a mountain b...</td>\n",
              "      <td>0</td>\n",
              "      <td>sincere</td>\n",
              "    </tr>\n",
              "  </tbody>\n",
              "</table>\n",
              "</div>\n",
              "      <button class=\"colab-df-convert\" onclick=\"convertToInteractive('df-68534e40-c43e-49f2-939f-19ab73e22ac2')\"\n",
              "              title=\"Convert this dataframe to an interactive table.\"\n",
              "              style=\"display:none;\">\n",
              "        \n",
              "  <svg xmlns=\"http://www.w3.org/2000/svg\" height=\"24px\"viewBox=\"0 0 24 24\"\n",
              "       width=\"24px\">\n",
              "    <path d=\"M0 0h24v24H0V0z\" fill=\"none\"/>\n",
              "    <path d=\"M18.56 5.44l.94 2.06.94-2.06 2.06-.94-2.06-.94-.94-2.06-.94 2.06-2.06.94zm-11 1L8.5 8.5l.94-2.06 2.06-.94-2.06-.94L8.5 2.5l-.94 2.06-2.06.94zm10 10l.94 2.06.94-2.06 2.06-.94-2.06-.94-.94-2.06-.94 2.06-2.06.94z\"/><path d=\"M17.41 7.96l-1.37-1.37c-.4-.4-.92-.59-1.43-.59-.52 0-1.04.2-1.43.59L10.3 9.45l-7.72 7.72c-.78.78-.78 2.05 0 2.83L4 21.41c.39.39.9.59 1.41.59.51 0 1.02-.2 1.41-.59l7.78-7.78 2.81-2.81c.8-.78.8-2.07 0-2.86zM5.41 20L4 18.59l7.72-7.72 1.47 1.35L5.41 20z\"/>\n",
              "  </svg>\n",
              "      </button>\n",
              "      \n",
              "  <style>\n",
              "    .colab-df-container {\n",
              "      display:flex;\n",
              "      flex-wrap:wrap;\n",
              "      gap: 12px;\n",
              "    }\n",
              "\n",
              "    .colab-df-convert {\n",
              "      background-color: #E8F0FE;\n",
              "      border: none;\n",
              "      border-radius: 50%;\n",
              "      cursor: pointer;\n",
              "      display: none;\n",
              "      fill: #1967D2;\n",
              "      height: 32px;\n",
              "      padding: 0 0 0 0;\n",
              "      width: 32px;\n",
              "    }\n",
              "\n",
              "    .colab-df-convert:hover {\n",
              "      background-color: #E2EBFA;\n",
              "      box-shadow: 0px 1px 2px rgba(60, 64, 67, 0.3), 0px 1px 3px 1px rgba(60, 64, 67, 0.15);\n",
              "      fill: #174EA6;\n",
              "    }\n",
              "\n",
              "    [theme=dark] .colab-df-convert {\n",
              "      background-color: #3B4455;\n",
              "      fill: #D2E3FC;\n",
              "    }\n",
              "\n",
              "    [theme=dark] .colab-df-convert:hover {\n",
              "      background-color: #434B5C;\n",
              "      box-shadow: 0px 1px 3px 1px rgba(0, 0, 0, 0.15);\n",
              "      filter: drop-shadow(0px 1px 2px rgba(0, 0, 0, 0.3));\n",
              "      fill: #FFFFFF;\n",
              "    }\n",
              "  </style>\n",
              "\n",
              "      <script>\n",
              "        const buttonEl =\n",
              "          document.querySelector('#df-68534e40-c43e-49f2-939f-19ab73e22ac2 button.colab-df-convert');\n",
              "        buttonEl.style.display =\n",
              "          google.colab.kernel.accessAllowed ? 'block' : 'none';\n",
              "\n",
              "        async function convertToInteractive(key) {\n",
              "          const element = document.querySelector('#df-68534e40-c43e-49f2-939f-19ab73e22ac2');\n",
              "          const dataTable =\n",
              "            await google.colab.kernel.invokeFunction('convertToInteractive',\n",
              "                                                     [key], {});\n",
              "          if (!dataTable) return;\n",
              "\n",
              "          const docLinkHtml = 'Like what you see? Visit the ' +\n",
              "            '<a target=\"_blank\" href=https://colab.research.google.com/notebooks/data_table.ipynb>data table notebook</a>'\n",
              "            + ' to learn more about interactive tables.';\n",
              "          element.innerHTML = '';\n",
              "          dataTable['output_type'] = 'display_data';\n",
              "          await google.colab.output.renderOutput(dataTable, element);\n",
              "          const docLink = document.createElement('div');\n",
              "          docLink.innerHTML = docLinkHtml;\n",
              "          element.appendChild(docLink);\n",
              "        }\n",
              "      </script>\n",
              "    </div>\n",
              "  </div>\n",
              "  "
            ],
            "text/plain": [
              "   Unnamed: 0                   qid  ... target    qtype\n",
              "0           0  00002165364db923c7e6  ...      0  sincere\n",
              "1           1  000032939017120e6e44  ...      0  sincere\n",
              "2           2  0000412ca6e4628ce2cf  ...      0  sincere\n",
              "3           3  000042bf85aa498cd78e  ...      0  sincere\n",
              "4           4  0000455dfa3e01eae3af  ...      0  sincere\n",
              "\n",
              "[5 rows x 5 columns]"
            ]
          },
          "metadata": {},
          "execution_count": 7
        }
      ],
      "source": [
        "# add a new column\n",
        "null_data['qtype'] = np.where(null_data['target'] == 1, 'insincere', 'sincere')\n",
        "null_data.head()"
      ]
    },
    {
      "cell_type": "code",
      "execution_count": 8,
      "id": "36463fa5",
      "metadata": {
        "colab": {
          "base_uri": "https://localhost:8080/",
          "height": 206
        },
        "id": "36463fa5",
        "outputId": "64c8b386-80d1-4063-8661-3f5f8ad2fb42"
      },
      "outputs": [
        {
          "output_type": "execute_result",
          "data": {
            "text/html": [
              "\n",
              "  <div id=\"df-b71d421c-67a5-4c9c-a2ca-d63154f81427\">\n",
              "    <div class=\"colab-df-container\">\n",
              "      <div>\n",
              "<style scoped>\n",
              "    .dataframe tbody tr th:only-of-type {\n",
              "        vertical-align: middle;\n",
              "    }\n",
              "\n",
              "    .dataframe tbody tr th {\n",
              "        vertical-align: top;\n",
              "    }\n",
              "\n",
              "    .dataframe thead th {\n",
              "        text-align: right;\n",
              "    }\n",
              "</style>\n",
              "<table border=\"1\" class=\"dataframe\">\n",
              "  <thead>\n",
              "    <tr style=\"text-align: right;\">\n",
              "      <th></th>\n",
              "      <th>question_text</th>\n",
              "      <th>qtype</th>\n",
              "    </tr>\n",
              "  </thead>\n",
              "  <tbody>\n",
              "    <tr>\n",
              "      <th>0</th>\n",
              "      <td>how did quebec nationalists see their province...</td>\n",
              "      <td>sincere</td>\n",
              "    </tr>\n",
              "    <tr>\n",
              "      <th>1</th>\n",
              "      <td>do you have an adopted dog how would you encou...</td>\n",
              "      <td>sincere</td>\n",
              "    </tr>\n",
              "    <tr>\n",
              "      <th>2</th>\n",
              "      <td>why does velocity affect time does velocity af...</td>\n",
              "      <td>sincere</td>\n",
              "    </tr>\n",
              "    <tr>\n",
              "      <th>3</th>\n",
              "      <td>how did otto von guericke used the magdeburg h...</td>\n",
              "      <td>sincere</td>\n",
              "    </tr>\n",
              "    <tr>\n",
              "      <th>4</th>\n",
              "      <td>can i convert montra helicon d to a mountain b...</td>\n",
              "      <td>sincere</td>\n",
              "    </tr>\n",
              "  </tbody>\n",
              "</table>\n",
              "</div>\n",
              "      <button class=\"colab-df-convert\" onclick=\"convertToInteractive('df-b71d421c-67a5-4c9c-a2ca-d63154f81427')\"\n",
              "              title=\"Convert this dataframe to an interactive table.\"\n",
              "              style=\"display:none;\">\n",
              "        \n",
              "  <svg xmlns=\"http://www.w3.org/2000/svg\" height=\"24px\"viewBox=\"0 0 24 24\"\n",
              "       width=\"24px\">\n",
              "    <path d=\"M0 0h24v24H0V0z\" fill=\"none\"/>\n",
              "    <path d=\"M18.56 5.44l.94 2.06.94-2.06 2.06-.94-2.06-.94-.94-2.06-.94 2.06-2.06.94zm-11 1L8.5 8.5l.94-2.06 2.06-.94-2.06-.94L8.5 2.5l-.94 2.06-2.06.94zm10 10l.94 2.06.94-2.06 2.06-.94-2.06-.94-.94-2.06-.94 2.06-2.06.94z\"/><path d=\"M17.41 7.96l-1.37-1.37c-.4-.4-.92-.59-1.43-.59-.52 0-1.04.2-1.43.59L10.3 9.45l-7.72 7.72c-.78.78-.78 2.05 0 2.83L4 21.41c.39.39.9.59 1.41.59.51 0 1.02-.2 1.41-.59l7.78-7.78 2.81-2.81c.8-.78.8-2.07 0-2.86zM5.41 20L4 18.59l7.72-7.72 1.47 1.35L5.41 20z\"/>\n",
              "  </svg>\n",
              "      </button>\n",
              "      \n",
              "  <style>\n",
              "    .colab-df-container {\n",
              "      display:flex;\n",
              "      flex-wrap:wrap;\n",
              "      gap: 12px;\n",
              "    }\n",
              "\n",
              "    .colab-df-convert {\n",
              "      background-color: #E8F0FE;\n",
              "      border: none;\n",
              "      border-radius: 50%;\n",
              "      cursor: pointer;\n",
              "      display: none;\n",
              "      fill: #1967D2;\n",
              "      height: 32px;\n",
              "      padding: 0 0 0 0;\n",
              "      width: 32px;\n",
              "    }\n",
              "\n",
              "    .colab-df-convert:hover {\n",
              "      background-color: #E2EBFA;\n",
              "      box-shadow: 0px 1px 2px rgba(60, 64, 67, 0.3), 0px 1px 3px 1px rgba(60, 64, 67, 0.15);\n",
              "      fill: #174EA6;\n",
              "    }\n",
              "\n",
              "    [theme=dark] .colab-df-convert {\n",
              "      background-color: #3B4455;\n",
              "      fill: #D2E3FC;\n",
              "    }\n",
              "\n",
              "    [theme=dark] .colab-df-convert:hover {\n",
              "      background-color: #434B5C;\n",
              "      box-shadow: 0px 1px 3px 1px rgba(0, 0, 0, 0.15);\n",
              "      filter: drop-shadow(0px 1px 2px rgba(0, 0, 0, 0.3));\n",
              "      fill: #FFFFFF;\n",
              "    }\n",
              "  </style>\n",
              "\n",
              "      <script>\n",
              "        const buttonEl =\n",
              "          document.querySelector('#df-b71d421c-67a5-4c9c-a2ca-d63154f81427 button.colab-df-convert');\n",
              "        buttonEl.style.display =\n",
              "          google.colab.kernel.accessAllowed ? 'block' : 'none';\n",
              "\n",
              "        async function convertToInteractive(key) {\n",
              "          const element = document.querySelector('#df-b71d421c-67a5-4c9c-a2ca-d63154f81427');\n",
              "          const dataTable =\n",
              "            await google.colab.kernel.invokeFunction('convertToInteractive',\n",
              "                                                     [key], {});\n",
              "          if (!dataTable) return;\n",
              "\n",
              "          const docLinkHtml = 'Like what you see? Visit the ' +\n",
              "            '<a target=\"_blank\" href=https://colab.research.google.com/notebooks/data_table.ipynb>data table notebook</a>'\n",
              "            + ' to learn more about interactive tables.';\n",
              "          element.innerHTML = '';\n",
              "          dataTable['output_type'] = 'display_data';\n",
              "          await google.colab.output.renderOutput(dataTable, element);\n",
              "          const docLink = document.createElement('div');\n",
              "          docLink.innerHTML = docLinkHtml;\n",
              "          element.appendChild(docLink);\n",
              "        }\n",
              "      </script>\n",
              "    </div>\n",
              "  </div>\n",
              "  "
            ],
            "text/plain": [
              "                                       question_text    qtype\n",
              "0  how did quebec nationalists see their province...  sincere\n",
              "1  do you have an adopted dog how would you encou...  sincere\n",
              "2  why does velocity affect time does velocity af...  sincere\n",
              "3  how did otto von guericke used the magdeburg h...  sincere\n",
              "4  can i convert montra helicon d to a mountain b...  sincere"
            ]
          },
          "metadata": {},
          "execution_count": 8
        }
      ],
      "source": [
        "# Include only the quetion text and question type\n",
        "null_data1 = null_data[['question_text', 'qtype']]\n",
        "null_data1.head()"
      ]
    },
    {
      "cell_type": "code",
      "execution_count": null,
      "id": "1be2886b",
      "metadata": {
        "id": "1be2886b",
        "outputId": "ff228781-1f45-4d29-b353-0431b1b6916b"
      },
      "outputs": [
        {
          "data": {
            "text/plain": [
              "sincere      0.938131\n",
              "insincere    0.061869\n",
              "Name: qtype, dtype: float64"
            ]
          },
          "execution_count": 11,
          "metadata": {},
          "output_type": "execute_result"
        }
      ],
      "source": [
        "# the dataset has mostly sincere questions\n",
        "null_data1.qtype.value_counts(normalize=True)"
      ]
    },
    {
      "cell_type": "code",
      "execution_count": 9,
      "id": "089df92c",
      "metadata": {
        "colab": {
          "base_uri": "https://localhost:8080/"
        },
        "id": "089df92c",
        "outputId": "ef7a667c-9c73-4140-b980-90ce645b7ce7"
      },
      "outputs": [
        {
          "output_type": "stream",
          "name": "stdout",
          "text": [
            "[nltk_data] Downloading package stopwords to /root/nltk_data...\n",
            "[nltk_data]   Package stopwords is already up-to-date!\n"
          ]
        },
        {
          "output_type": "execute_result",
          "data": {
            "text/plain": [
              "True"
            ]
          },
          "metadata": {},
          "execution_count": 9
        }
      ],
      "source": [
        "import nltk\n",
        "nltk.download('stopwords')"
      ]
    },
    {
      "cell_type": "code",
      "execution_count": 10,
      "id": "6c7abf57",
      "metadata": {
        "colab": {
          "base_uri": "https://localhost:8080/"
        },
        "id": "6c7abf57",
        "outputId": "189e3498-24e3-45fd-862a-9ff3f925d1be"
      },
      "outputs": [
        {
          "output_type": "stream",
          "name": "stdout",
          "text": [
            "[nltk_data] Downloading package punkt to /root/nltk_data...\n",
            "[nltk_data]   Package punkt is already up-to-date!\n"
          ]
        },
        {
          "output_type": "execute_result",
          "data": {
            "text/plain": [
              "True"
            ]
          },
          "metadata": {},
          "execution_count": 10
        }
      ],
      "source": [
        " nltk.download('punkt')"
      ]
    },
    {
      "cell_type": "code",
      "execution_count": 11,
      "id": "58b57a84",
      "metadata": {
        "id": "58b57a84"
      },
      "outputs": [],
      "source": [
        "from nltk.corpus import stopwords\n",
        "from nltk.tokenize import word_tokenize\n",
        "english = stopwords.words('english')"
      ]
    },
    {
      "cell_type": "code",
      "execution_count": 12,
      "id": "1182994f",
      "metadata": {
        "id": "1182994f"
      },
      "outputs": [],
      "source": [
        "porter_stemmer = PorterStemmer()"
      ]
    },
    {
      "cell_type": "code",
      "execution_count": 13,
      "id": "ddc82210",
      "metadata": {
        "colab": {
          "base_uri": "https://localhost:8080/",
          "height": 330
        },
        "id": "ddc82210",
        "outputId": "765a7d6b-f452-4c35-fe60-042451ab240a"
      },
      "outputs": [
        {
          "output_type": "stream",
          "name": "stderr",
          "text": [
            "/usr/local/lib/python3.7/dist-packages/ipykernel_launcher.py:13: SettingWithCopyWarning: \n",
            "A value is trying to be set on a copy of a slice from a DataFrame.\n",
            "Try using .loc[row_indexer,col_indexer] = value instead\n",
            "\n",
            "See the caveats in the documentation: https://pandas.pydata.org/pandas-docs/stable/user_guide/indexing.html#returning-a-view-versus-a-copy\n",
            "  del sys.path[0]\n"
          ]
        },
        {
          "output_type": "execute_result",
          "data": {
            "text/html": [
              "\n",
              "  <div id=\"df-39b5e8c5-3620-4512-b118-e57d535f5a7a\">\n",
              "    <div class=\"colab-df-container\">\n",
              "      <div>\n",
              "<style scoped>\n",
              "    .dataframe tbody tr th:only-of-type {\n",
              "        vertical-align: middle;\n",
              "    }\n",
              "\n",
              "    .dataframe tbody tr th {\n",
              "        vertical-align: top;\n",
              "    }\n",
              "\n",
              "    .dataframe thead th {\n",
              "        text-align: right;\n",
              "    }\n",
              "</style>\n",
              "<table border=\"1\" class=\"dataframe\">\n",
              "  <thead>\n",
              "    <tr style=\"text-align: right;\">\n",
              "      <th></th>\n",
              "      <th>question_text</th>\n",
              "      <th>qtype</th>\n",
              "      <th>clean_qtext</th>\n",
              "    </tr>\n",
              "  </thead>\n",
              "  <tbody>\n",
              "    <tr>\n",
              "      <th>0</th>\n",
              "      <td>how did quebec nationalists see their province...</td>\n",
              "      <td>sincere</td>\n",
              "      <td>quebec nationalist see provinc nation</td>\n",
              "    </tr>\n",
              "    <tr>\n",
              "      <th>1</th>\n",
              "      <td>do you have an adopted dog how would you encou...</td>\n",
              "      <td>sincere</td>\n",
              "      <td>adopt dog would encourag peopl adopt shop</td>\n",
              "    </tr>\n",
              "    <tr>\n",
              "      <th>2</th>\n",
              "      <td>why does velocity affect time does velocity af...</td>\n",
              "      <td>sincere</td>\n",
              "      <td>veloc affect time veloc affect space geometri</td>\n",
              "    </tr>\n",
              "    <tr>\n",
              "      <th>3</th>\n",
              "      <td>how did otto von guericke used the magdeburg h...</td>\n",
              "      <td>sincere</td>\n",
              "      <td>otto von guerick use magdeburg hemispher</td>\n",
              "    </tr>\n",
              "    <tr>\n",
              "      <th>4</th>\n",
              "      <td>can i convert montra helicon d to a mountain b...</td>\n",
              "      <td>sincere</td>\n",
              "      <td>convert montra helicon mountain bike chang tyre</td>\n",
              "    </tr>\n",
              "  </tbody>\n",
              "</table>\n",
              "</div>\n",
              "      <button class=\"colab-df-convert\" onclick=\"convertToInteractive('df-39b5e8c5-3620-4512-b118-e57d535f5a7a')\"\n",
              "              title=\"Convert this dataframe to an interactive table.\"\n",
              "              style=\"display:none;\">\n",
              "        \n",
              "  <svg xmlns=\"http://www.w3.org/2000/svg\" height=\"24px\"viewBox=\"0 0 24 24\"\n",
              "       width=\"24px\">\n",
              "    <path d=\"M0 0h24v24H0V0z\" fill=\"none\"/>\n",
              "    <path d=\"M18.56 5.44l.94 2.06.94-2.06 2.06-.94-2.06-.94-.94-2.06-.94 2.06-2.06.94zm-11 1L8.5 8.5l.94-2.06 2.06-.94-2.06-.94L8.5 2.5l-.94 2.06-2.06.94zm10 10l.94 2.06.94-2.06 2.06-.94-2.06-.94-.94-2.06-.94 2.06-2.06.94z\"/><path d=\"M17.41 7.96l-1.37-1.37c-.4-.4-.92-.59-1.43-.59-.52 0-1.04.2-1.43.59L10.3 9.45l-7.72 7.72c-.78.78-.78 2.05 0 2.83L4 21.41c.39.39.9.59 1.41.59.51 0 1.02-.2 1.41-.59l7.78-7.78 2.81-2.81c.8-.78.8-2.07 0-2.86zM5.41 20L4 18.59l7.72-7.72 1.47 1.35L5.41 20z\"/>\n",
              "  </svg>\n",
              "      </button>\n",
              "      \n",
              "  <style>\n",
              "    .colab-df-container {\n",
              "      display:flex;\n",
              "      flex-wrap:wrap;\n",
              "      gap: 12px;\n",
              "    }\n",
              "\n",
              "    .colab-df-convert {\n",
              "      background-color: #E8F0FE;\n",
              "      border: none;\n",
              "      border-radius: 50%;\n",
              "      cursor: pointer;\n",
              "      display: none;\n",
              "      fill: #1967D2;\n",
              "      height: 32px;\n",
              "      padding: 0 0 0 0;\n",
              "      width: 32px;\n",
              "    }\n",
              "\n",
              "    .colab-df-convert:hover {\n",
              "      background-color: #E2EBFA;\n",
              "      box-shadow: 0px 1px 2px rgba(60, 64, 67, 0.3), 0px 1px 3px 1px rgba(60, 64, 67, 0.15);\n",
              "      fill: #174EA6;\n",
              "    }\n",
              "\n",
              "    [theme=dark] .colab-df-convert {\n",
              "      background-color: #3B4455;\n",
              "      fill: #D2E3FC;\n",
              "    }\n",
              "\n",
              "    [theme=dark] .colab-df-convert:hover {\n",
              "      background-color: #434B5C;\n",
              "      box-shadow: 0px 1px 3px 1px rgba(0, 0, 0, 0.15);\n",
              "      filter: drop-shadow(0px 1px 2px rgba(0, 0, 0, 0.3));\n",
              "      fill: #FFFFFF;\n",
              "    }\n",
              "  </style>\n",
              "\n",
              "      <script>\n",
              "        const buttonEl =\n",
              "          document.querySelector('#df-39b5e8c5-3620-4512-b118-e57d535f5a7a button.colab-df-convert');\n",
              "        buttonEl.style.display =\n",
              "          google.colab.kernel.accessAllowed ? 'block' : 'none';\n",
              "\n",
              "        async function convertToInteractive(key) {\n",
              "          const element = document.querySelector('#df-39b5e8c5-3620-4512-b118-e57d535f5a7a');\n",
              "          const dataTable =\n",
              "            await google.colab.kernel.invokeFunction('convertToInteractive',\n",
              "                                                     [key], {});\n",
              "          if (!dataTable) return;\n",
              "\n",
              "          const docLinkHtml = 'Like what you see? Visit the ' +\n",
              "            '<a target=\"_blank\" href=https://colab.research.google.com/notebooks/data_table.ipynb>data table notebook</a>'\n",
              "            + ' to learn more about interactive tables.';\n",
              "          element.innerHTML = '';\n",
              "          dataTable['output_type'] = 'display_data';\n",
              "          await google.colab.output.renderOutput(dataTable, element);\n",
              "          const docLink = document.createElement('div');\n",
              "          docLink.innerHTML = docLinkHtml;\n",
              "          element.appendChild(docLink);\n",
              "        }\n",
              "      </script>\n",
              "    </div>\n",
              "  </div>\n",
              "  "
            ],
            "text/plain": [
              "                                       question_text  ...                                       clean_qtext\n",
              "0  how did quebec nationalists see their province...  ...            quebec nationalist see provinc nation \n",
              "1  do you have an adopted dog how would you encou...  ...        adopt dog would encourag peopl adopt shop \n",
              "2  why does velocity affect time does velocity af...  ...    veloc affect time veloc affect space geometri \n",
              "3  how did otto von guericke used the magdeburg h...  ...         otto von guerick use magdeburg hemispher \n",
              "4  can i convert montra helicon d to a mountain b...  ...  convert montra helicon mountain bike chang tyre \n",
              "\n",
              "[5 rows x 3 columns]"
            ]
          },
          "metadata": {},
          "execution_count": 13
        }
      ],
      "source": [
        "# create a new column to hold clean text \n",
        "# to remove numbers, punctuations,stop words and convert to lowercase\n",
        "import re\n",
        "\n",
        "def text_cleaner(text):\n",
        "    word_tokens = word_tokenize(text)\n",
        "    tokens = [porter_stemmer.stem(w.lower()) for w in word_tokens if w not in english]\n",
        "    clean_qtext = \" \".join(tokens) + ' '\n",
        "    clean_qtext = re.sub(\" \\d+\", \" \", clean_qtext)\n",
        "    return clean_qtext\n",
        "\n",
        "null_data1 = null_data1\n",
        "null_data1['clean_qtext'] = null_data1['question_text'].apply(text_cleaner)\n",
        "null_data1.head()"
      ]
    },
    {
      "cell_type": "markdown",
      "id": "4660d598",
      "metadata": {
        "id": "4660d598"
      },
      "source": [
        "## B. Columns\n",
        "- Drop un-necessary columns\n",
        "- Remove white spaces \n",
        "- Reindex tha dataset"
      ]
    },
    {
      "cell_type": "code",
      "execution_count": 14,
      "id": "8404d34c",
      "metadata": {
        "id": "8404d34c"
      },
      "outputs": [],
      "source": [
        "# Drop un-necessary columns \n",
        "# Since we already have clean question text we do not need question text, shall be dropped!\n",
        "null_data1 = null_data1.drop(columns = 'question_text')"
      ]
    },
    {
      "cell_type": "code",
      "execution_count": 15,
      "id": "6fc3f28d",
      "metadata": {
        "id": "6fc3f28d"
      },
      "outputs": [],
      "source": [
        "# remove white spaces\n",
        "null_data1.columns = null_data1.columns.str.strip()"
      ]
    },
    {
      "cell_type": "code",
      "execution_count": 16,
      "id": "8902082e",
      "metadata": {
        "id": "8902082e"
      },
      "outputs": [],
      "source": [
        "# reindex the dataset\n",
        "column_names= [\"clean_qtext\", \"qtype\"]\n",
        "null_data1= null_data1.reindex(columns=column_names)"
      ]
    },
    {
      "cell_type": "code",
      "execution_count": 17,
      "id": "74138ae5",
      "metadata": {
        "colab": {
          "base_uri": "https://localhost:8080/",
          "height": 81
        },
        "id": "74138ae5",
        "outputId": "2c45cf7e-564f-47fb-8722-7da520c44715"
      },
      "outputs": [
        {
          "output_type": "execute_result",
          "data": {
            "text/html": [
              "\n",
              "  <div id=\"df-69bbeaef-086b-4c9a-b45f-21f747bf25c7\">\n",
              "    <div class=\"colab-df-container\">\n",
              "      <div>\n",
              "<style scoped>\n",
              "    .dataframe tbody tr th:only-of-type {\n",
              "        vertical-align: middle;\n",
              "    }\n",
              "\n",
              "    .dataframe tbody tr th {\n",
              "        vertical-align: top;\n",
              "    }\n",
              "\n",
              "    .dataframe thead th {\n",
              "        text-align: right;\n",
              "    }\n",
              "</style>\n",
              "<table border=\"1\" class=\"dataframe\">\n",
              "  <thead>\n",
              "    <tr style=\"text-align: right;\">\n",
              "      <th></th>\n",
              "      <th>clean_qtext</th>\n",
              "      <th>qtype</th>\n",
              "    </tr>\n",
              "  </thead>\n",
              "  <tbody>\n",
              "    <tr>\n",
              "      <th>0</th>\n",
              "      <td>quebec nationalist see provinc nation</td>\n",
              "      <td>sincere</td>\n",
              "    </tr>\n",
              "  </tbody>\n",
              "</table>\n",
              "</div>\n",
              "      <button class=\"colab-df-convert\" onclick=\"convertToInteractive('df-69bbeaef-086b-4c9a-b45f-21f747bf25c7')\"\n",
              "              title=\"Convert this dataframe to an interactive table.\"\n",
              "              style=\"display:none;\">\n",
              "        \n",
              "  <svg xmlns=\"http://www.w3.org/2000/svg\" height=\"24px\"viewBox=\"0 0 24 24\"\n",
              "       width=\"24px\">\n",
              "    <path d=\"M0 0h24v24H0V0z\" fill=\"none\"/>\n",
              "    <path d=\"M18.56 5.44l.94 2.06.94-2.06 2.06-.94-2.06-.94-.94-2.06-.94 2.06-2.06.94zm-11 1L8.5 8.5l.94-2.06 2.06-.94-2.06-.94L8.5 2.5l-.94 2.06-2.06.94zm10 10l.94 2.06.94-2.06 2.06-.94-2.06-.94-.94-2.06-.94 2.06-2.06.94z\"/><path d=\"M17.41 7.96l-1.37-1.37c-.4-.4-.92-.59-1.43-.59-.52 0-1.04.2-1.43.59L10.3 9.45l-7.72 7.72c-.78.78-.78 2.05 0 2.83L4 21.41c.39.39.9.59 1.41.59.51 0 1.02-.2 1.41-.59l7.78-7.78 2.81-2.81c.8-.78.8-2.07 0-2.86zM5.41 20L4 18.59l7.72-7.72 1.47 1.35L5.41 20z\"/>\n",
              "  </svg>\n",
              "      </button>\n",
              "      \n",
              "  <style>\n",
              "    .colab-df-container {\n",
              "      display:flex;\n",
              "      flex-wrap:wrap;\n",
              "      gap: 12px;\n",
              "    }\n",
              "\n",
              "    .colab-df-convert {\n",
              "      background-color: #E8F0FE;\n",
              "      border: none;\n",
              "      border-radius: 50%;\n",
              "      cursor: pointer;\n",
              "      display: none;\n",
              "      fill: #1967D2;\n",
              "      height: 32px;\n",
              "      padding: 0 0 0 0;\n",
              "      width: 32px;\n",
              "    }\n",
              "\n",
              "    .colab-df-convert:hover {\n",
              "      background-color: #E2EBFA;\n",
              "      box-shadow: 0px 1px 2px rgba(60, 64, 67, 0.3), 0px 1px 3px 1px rgba(60, 64, 67, 0.15);\n",
              "      fill: #174EA6;\n",
              "    }\n",
              "\n",
              "    [theme=dark] .colab-df-convert {\n",
              "      background-color: #3B4455;\n",
              "      fill: #D2E3FC;\n",
              "    }\n",
              "\n",
              "    [theme=dark] .colab-df-convert:hover {\n",
              "      background-color: #434B5C;\n",
              "      box-shadow: 0px 1px 3px 1px rgba(0, 0, 0, 0.15);\n",
              "      filter: drop-shadow(0px 1px 2px rgba(0, 0, 0, 0.3));\n",
              "      fill: #FFFFFF;\n",
              "    }\n",
              "  </style>\n",
              "\n",
              "      <script>\n",
              "        const buttonEl =\n",
              "          document.querySelector('#df-69bbeaef-086b-4c9a-b45f-21f747bf25c7 button.colab-df-convert');\n",
              "        buttonEl.style.display =\n",
              "          google.colab.kernel.accessAllowed ? 'block' : 'none';\n",
              "\n",
              "        async function convertToInteractive(key) {\n",
              "          const element = document.querySelector('#df-69bbeaef-086b-4c9a-b45f-21f747bf25c7');\n",
              "          const dataTable =\n",
              "            await google.colab.kernel.invokeFunction('convertToInteractive',\n",
              "                                                     [key], {});\n",
              "          if (!dataTable) return;\n",
              "\n",
              "          const docLinkHtml = 'Like what you see? Visit the ' +\n",
              "            '<a target=\"_blank\" href=https://colab.research.google.com/notebooks/data_table.ipynb>data table notebook</a>'\n",
              "            + ' to learn more about interactive tables.';\n",
              "          element.innerHTML = '';\n",
              "          dataTable['output_type'] = 'display_data';\n",
              "          await google.colab.output.renderOutput(dataTable, element);\n",
              "          const docLink = document.createElement('div');\n",
              "          docLink.innerHTML = docLinkHtml;\n",
              "          element.appendChild(docLink);\n",
              "        }\n",
              "      </script>\n",
              "    </div>\n",
              "  </div>\n",
              "  "
            ],
            "text/plain": [
              "                              clean_qtext    qtype\n",
              "0  quebec nationalist see provinc nation   sincere"
            ]
          },
          "metadata": {},
          "execution_count": 17
        }
      ],
      "source": [
        "null_data1.head(1)"
      ]
    },
    {
      "cell_type": "markdown",
      "id": "d2333734",
      "metadata": {
        "id": "d2333734"
      },
      "source": [
        "# Step 3: Explore Data (EDA)"
      ]
    },
    {
      "cell_type": "code",
      "execution_count": 18,
      "id": "0cb1ed04",
      "metadata": {
        "scrolled": true,
        "colab": {
          "base_uri": "https://localhost:8080/",
          "height": 365
        },
        "id": "0cb1ed04",
        "outputId": "4607395c-a634-46fa-e0aa-40b203e62a2d"
      },
      "outputs": [
        {
          "output_type": "display_data",
          "data": {
            "image/png": "[encoded data removed]",
            "text/plain": [
              "<Figure size 360x360 with 1 Axes>"
            ]
          },
          "metadata": {}
        }
      ],
      "source": [
        "# Check Target --> qtype (balanced or not??)\n",
        "sns.set_theme(style='whitegrid', palette = \"PuBuGn_r\")\n",
        "g= sns.catplot(x='qtype', data= null_data1, kind='count');\n",
        "ax = g.facet_axis(0,0)\n",
        "for p in ax.patches:\n",
        "    ax.text(p.get_x() + 0.015, \n",
        "            p.get_height() * 1.02, \n",
        "            '{0:.2f}'.format(p.get_height()), \n",
        "            color='black', rotation='horizontal', size='large')"
      ]
    },
    {
      "cell_type": "markdown",
      "id": "3b6fed3d",
      "metadata": {
        "id": "3b6fed3d"
      },
      "source": [
        "### Based on the graph above it shows that sincere questions is much more than insincere questions, so it is imbalanced."
      ]
    },
    {
      "cell_type": "code",
      "source": [
        "from wordcloud import WordCloud, STOPWORDS\n",
        "from collections import Counter"
      ],
      "metadata": {
        "id": "4skl2pKv9yVp"
      },
      "id": "4skl2pKv9yVp",
      "execution_count": 19,
      "outputs": []
    },
    {
      "cell_type": "markdown",
      "source": [
        "## Word Cloud for most Frequent words !!"
      ],
      "metadata": {
        "id": "_8UklgldEQsw"
      },
      "id": "_8UklgldEQsw"
    },
    {
      "cell_type": "code",
      "execution_count": 20,
      "id": "2eade759",
      "metadata": {
        "colab": {
          "base_uri": "https://localhost:8080/",
          "height": 659
        },
        "id": "2eade759",
        "outputId": "179fc93c-d27a-4b6a-9edd-0bb1941a364c"
      },
      "outputs": [
        {
          "output_type": "display_data",
          "data": {
            "text/plain": [
              "<Figure size 432x288 with 0 Axes>"
            ]
          },
          "metadata": {}
        },
        {
          "output_type": "display_data",
          "data": {
            "image/png": "[encoded data removed]",
            "text/plain": [
              "<Figure size 576x576 with 1 Axes>"
            ]
          },
          "metadata": {}
        },
        {
          "output_type": "execute_result",
          "data": {
            "text/plain": [
              "<Figure size 432x288 with 0 Axes>"
            ]
          },
          "metadata": {},
          "execution_count": 20
        },
        {
          "output_type": "display_data",
          "data": {
            "text/plain": [
              "<Figure size 432x288 with 0 Axes>"
            ]
          },
          "metadata": {}
        }
      ],
      "source": [
        "from wordcloud import WordCloud, STOPWORDS\n",
        "from collections import Counter\n",
        "\n",
        "def most_freq_words (data, column, numWords):\n",
        "    topic_words = [z.lower() for y in [x.split() for x in data[column] if isinstance (x,str)] for z in y\n",
        "                  ]\n",
        "    word_count_dict = dict(Counter(topic_words))\n",
        "    popular_words  = sorted(word_count_dict, key = word_count_dict.get, reverse=True)\n",
        "    popular_words_nonstop = [ w for w in popular_words if w not in english ]\n",
        "    word_string = str(popular_words_nonstop)\n",
        " #     print(topic_words)\n",
        "    wordcloud = WordCloud(width = 800, height = 800,\n",
        "                background_color ='black', # can chanage background color\n",
        "                stopwords = english,\n",
        "                min_font_size = 10,\n",
        "                max_words = numWords).generate(word_string)\n",
        " \n",
        " # plot the WordCloud image\n",
        "\n",
        "    plt.clf()\n",
        "    plt.figure(figsize = (8, 8), facecolor = None)\n",
        "    plt.imshow(wordcloud)\n",
        "    plt.axis(\"off\")\n",
        "    plt.tight_layout(pad = 0)\n",
        "    plt.show()\n",
        "# Here below we use the above word cloud function to present word frequency in documents\n",
        "# ALso we can choose the number of words to be presented \n",
        "plt.figure(most_freq_words(null_data1, 'clean_qtext', 100))"
      ]
    },
    {
      "cell_type": "markdown",
      "id": "945b1016",
      "metadata": {
        "id": "945b1016"
      },
      "source": [
        "# Step 4: Modeling"
      ]
    },
    {
      "cell_type": "markdown",
      "source": [
        "## Topic Modeling"
      ],
      "metadata": {
        "id": "0s3B-B22Ji_t"
      },
      "id": "0s3B-B22Ji_t"
    },
    {
      "cell_type": "code",
      "source": [
        "#NLP Vectoirzer\n",
        "from sklearn.feature_extraction.text import CountVectorizer\n",
        "from sklearn.feature_extraction.text  import TfidfVectorizer"
      ],
      "metadata": {
        "id": "CxB8DCAVKJc0"
      },
      "id": "CxB8DCAVKJc0",
      "execution_count": 21,
      "outputs": []
    },
    {
      "cell_type": "code",
      "source": [
        "tfidf = TfidfVectorizer()\n",
        "doc_term_matrix =  tfidf.fit_transform(null_data1['clean_qtext'])\n",
        "print(doc_term_matrix.shape)"
      ],
      "metadata": {
        "colab": {
          "base_uri": "https://localhost:8080/"
        },
        "id": "ZQ9mDeqhJo6N",
        "outputId": "8d394521-2fe9-4866-a481-315b70a44e3d"
      },
      "id": "ZQ9mDeqhJo6N",
      "execution_count": 22,
      "outputs": [
        {
          "output_type": "stream",
          "name": "stdout",
          "text": [
            "(1306121, 180035)\n"
          ]
        }
      ]
    },
    {
      "cell_type": "code",
      "source": [
        "pd.DataFrame (doc_term_matrix.toarray(), columns =tfidf.get_feature_names())"
      ],
      "metadata": {
        "id": "ssEZ6XJyKb37"
      },
      "id": "ssEZ6XJyKb37",
      "execution_count": null,
      "outputs": []
    },
    {
      "cell_type": "code",
      "execution_count": null,
      "id": "7e7bc785",
      "metadata": {
        "id": "7e7bc785"
      },
      "outputs": [],
      "source": [
        "# Split the data into X and y data sets\n",
        "\n",
        "X = null_data1.clean_qtext\n",
        "y = null_data1.qtype"
      ]
    },
    {
      "cell_type": "code",
      "execution_count": null,
      "id": "a0862f0b",
      "metadata": {
        "id": "a0862f0b"
      },
      "outputs": [],
      "source": [
        "# Split the data into training and test sets\n",
        "from sklearn.model_selection import train_test_split\n",
        "\n",
        "X_train, X_test, y_train, y_test = train_test_split(X, y, test_size=0.3, random_state=42)"
      ]
    },
    {
      "cell_type": "code",
      "execution_count": null,
      "id": "e28bb3e5",
      "metadata": {
        "id": "e28bb3e5",
        "outputId": "84ac57a5-28e1-471e-b744-cecd3a93fb0f"
      },
      "outputs": [
        {
          "ename": "MemoryError",
          "evalue": "Unable to allocate 988. GiB for an array with shape (914284, 145007) and data type int64",
          "output_type": "error",
          "traceback": [
            "\u001b[1;31m---------------------------------------------------------------------------\u001b[0m",
            "\u001b[1;31mMemoryError\u001b[0m                               Traceback (most recent call last)",
            "\u001b[1;32m~\\AppData\\Local\\Temp/ipykernel_9756/2671534125.py\u001b[0m in \u001b[0;36m<module>\u001b[1;34m\u001b[0m\n\u001b[0;32m      7\u001b[0m \u001b[0mX_test_cv1\u001b[0m  \u001b[1;33m=\u001b[0m \u001b[0mcv1\u001b[0m\u001b[1;33m.\u001b[0m\u001b[0mtransform\u001b[0m\u001b[1;33m(\u001b[0m\u001b[0mX_test\u001b[0m\u001b[1;33m)\u001b[0m\u001b[1;33m\u001b[0m\u001b[1;33m\u001b[0m\u001b[0m\n\u001b[0;32m      8\u001b[0m \u001b[1;33m\u001b[0m\u001b[0m\n\u001b[1;32m----> 9\u001b[1;33m \u001b[0mpd\u001b[0m\u001b[1;33m.\u001b[0m\u001b[0mDataFrame\u001b[0m\u001b[1;33m(\u001b[0m\u001b[0mX_train_cv1\u001b[0m\u001b[1;33m.\u001b[0m\u001b[0mtoarray\u001b[0m\u001b[1;33m(\u001b[0m\u001b[1;33m)\u001b[0m\u001b[1;33m,\u001b[0m \u001b[0mcolumns\u001b[0m\u001b[1;33m=\u001b[0m\u001b[0mcv1\u001b[0m\u001b[1;33m.\u001b[0m\u001b[0mget_feature_names\u001b[0m\u001b[1;33m(\u001b[0m\u001b[1;33m)\u001b[0m\u001b[1;33m)\u001b[0m\u001b[1;33m.\u001b[0m\u001b[0mhead\u001b[0m\u001b[1;33m(\u001b[0m\u001b[1;33m)\u001b[0m\u001b[1;33m\u001b[0m\u001b[1;33m\u001b[0m\u001b[0m\n\u001b[0m",
            "\u001b[1;32mD:\\anaconda\\envs\\metis\\lib\\site-packages\\scipy\\sparse\\compressed.py\u001b[0m in \u001b[0;36mtoarray\u001b[1;34m(self, order, out)\u001b[0m\n\u001b[0;32m   1037\u001b[0m         \u001b[1;32mif\u001b[0m \u001b[0mout\u001b[0m \u001b[1;32mis\u001b[0m \u001b[1;32mNone\u001b[0m \u001b[1;32mand\u001b[0m \u001b[0morder\u001b[0m \u001b[1;32mis\u001b[0m \u001b[1;32mNone\u001b[0m\u001b[1;33m:\u001b[0m\u001b[1;33m\u001b[0m\u001b[1;33m\u001b[0m\u001b[0m\n\u001b[0;32m   1038\u001b[0m             \u001b[0morder\u001b[0m \u001b[1;33m=\u001b[0m \u001b[0mself\u001b[0m\u001b[1;33m.\u001b[0m\u001b[0m_swap\u001b[0m\u001b[1;33m(\u001b[0m\u001b[1;34m'cf'\u001b[0m\u001b[1;33m)\u001b[0m\u001b[1;33m[\u001b[0m\u001b[1;36m0\u001b[0m\u001b[1;33m]\u001b[0m\u001b[1;33m\u001b[0m\u001b[1;33m\u001b[0m\u001b[0m\n\u001b[1;32m-> 1039\u001b[1;33m         \u001b[0mout\u001b[0m \u001b[1;33m=\u001b[0m \u001b[0mself\u001b[0m\u001b[1;33m.\u001b[0m\u001b[0m_process_toarray_args\u001b[0m\u001b[1;33m(\u001b[0m\u001b[0morder\u001b[0m\u001b[1;33m,\u001b[0m \u001b[0mout\u001b[0m\u001b[1;33m)\u001b[0m\u001b[1;33m\u001b[0m\u001b[1;33m\u001b[0m\u001b[0m\n\u001b[0m\u001b[0;32m   1040\u001b[0m         \u001b[1;32mif\u001b[0m \u001b[1;32mnot\u001b[0m \u001b[1;33m(\u001b[0m\u001b[0mout\u001b[0m\u001b[1;33m.\u001b[0m\u001b[0mflags\u001b[0m\u001b[1;33m.\u001b[0m\u001b[0mc_contiguous\u001b[0m \u001b[1;32mor\u001b[0m \u001b[0mout\u001b[0m\u001b[1;33m.\u001b[0m\u001b[0mflags\u001b[0m\u001b[1;33m.\u001b[0m\u001b[0mf_contiguous\u001b[0m\u001b[1;33m)\u001b[0m\u001b[1;33m:\u001b[0m\u001b[1;33m\u001b[0m\u001b[1;33m\u001b[0m\u001b[0m\n\u001b[0;32m   1041\u001b[0m             \u001b[1;32mraise\u001b[0m \u001b[0mValueError\u001b[0m\u001b[1;33m(\u001b[0m\u001b[1;34m'Output array must be C or F contiguous'\u001b[0m\u001b[1;33m)\u001b[0m\u001b[1;33m\u001b[0m\u001b[1;33m\u001b[0m\u001b[0m\n",
            "\u001b[1;32mD:\\anaconda\\envs\\metis\\lib\\site-packages\\scipy\\sparse\\base.py\u001b[0m in \u001b[0;36m_process_toarray_args\u001b[1;34m(self, order, out)\u001b[0m\n\u001b[0;32m   1200\u001b[0m             \u001b[1;32mreturn\u001b[0m \u001b[0mout\u001b[0m\u001b[1;33m\u001b[0m\u001b[1;33m\u001b[0m\u001b[0m\n\u001b[0;32m   1201\u001b[0m         \u001b[1;32melse\u001b[0m\u001b[1;33m:\u001b[0m\u001b[1;33m\u001b[0m\u001b[1;33m\u001b[0m\u001b[0m\n\u001b[1;32m-> 1202\u001b[1;33m             \u001b[1;32mreturn\u001b[0m \u001b[0mnp\u001b[0m\u001b[1;33m.\u001b[0m\u001b[0mzeros\u001b[0m\u001b[1;33m(\u001b[0m\u001b[0mself\u001b[0m\u001b[1;33m.\u001b[0m\u001b[0mshape\u001b[0m\u001b[1;33m,\u001b[0m \u001b[0mdtype\u001b[0m\u001b[1;33m=\u001b[0m\u001b[0mself\u001b[0m\u001b[1;33m.\u001b[0m\u001b[0mdtype\u001b[0m\u001b[1;33m,\u001b[0m \u001b[0morder\u001b[0m\u001b[1;33m=\u001b[0m\u001b[0morder\u001b[0m\u001b[1;33m)\u001b[0m\u001b[1;33m\u001b[0m\u001b[1;33m\u001b[0m\u001b[0m\n\u001b[0m\u001b[0;32m   1203\u001b[0m \u001b[1;33m\u001b[0m\u001b[0m\n\u001b[0;32m   1204\u001b[0m \u001b[1;33m\u001b[0m\u001b[0m\n",
            "\u001b[1;31mMemoryError\u001b[0m: Unable to allocate 988. GiB for an array with shape (914284, 145007) and data type int64"
          ]
        }
      ],
      "source": [
        "# The first document-term matrix has default Count Vectorizer values - counts of unigrams\n",
        "from sklearn.feature_extraction.text import CountVectorizer\n",
        "\n",
        "cv1 = CountVectorizer(stop_words='english')\n",
        "\n",
        "X_train_cv1 = cv1.fit_transform(X_train)\n",
        "X_test_cv1  = cv1.transform(X_test)\n",
        "\n",
        "pd.DataFrame(X_train_cv1.toarray(), columns=cv1.get_feature_names()).head()"
      ]
    },
    {
      "cell_type": "code",
      "execution_count": null,
      "id": "aee27247",
      "metadata": {
        "id": "aee27247"
      },
      "outputs": [],
      "source": [
        "# The second document-term matrix has both unigrams and bigrams, and indicators instead of counts\n",
        "cv2 = CountVectorizer(ngram_range=(1,2), binary=True, stop_words='english')\n",
        "\n",
        "X_train_cv2 = cv2.fit_transform(X_train)\n",
        "X_test_cv2  = cv2.transform(X_test)\n",
        "\n",
        "pd.DataFrame(X_train_cv2.toarray(), columns=cv2.get_feature_names()).head()"
      ]
    },
    {
      "cell_type": "markdown",
      "id": "a8106bff",
      "metadata": {
        "id": "a8106bff"
      },
      "source": [
        "### Try classifying using Logistic Regression"
      ]
    },
    {
      "cell_type": "code",
      "execution_count": null,
      "id": "aab81f10",
      "metadata": {
        "id": "aab81f10"
      },
      "outputs": [],
      "source": [
        "# Create a logistic regression model to use\n",
        "from sklearn.linear_model import LogisticRegression\n",
        "lr = LogisticRegression()"
      ]
    },
    {
      "cell_type": "code",
      "execution_count": null,
      "id": "fc38e826",
      "metadata": {
        "id": "fc38e826"
      },
      "outputs": [],
      "source": [
        "# Train the first model\n",
        "lr.fit(X_train_cv1, y_train)\n",
        "y_pred_cv1 = lr.predict(X_test_cv1)"
      ]
    },
    {
      "cell_type": "code",
      "execution_count": null,
      "id": "86b4fda4",
      "metadata": {
        "id": "86b4fda4"
      },
      "outputs": [],
      "source": [
        "# Train the second model\n",
        "lr.fit(X_train_cv2, y_train)\n",
        "y_pred_cv2 = lr.predict(X_test_cv2)"
      ]
    },
    {
      "cell_type": "code",
      "execution_count": null,
      "id": "892fee3a",
      "metadata": {
        "id": "892fee3a"
      },
      "outputs": [],
      "source": [
        "# Create a function to calculate the error metrics, since we'll be doing this several times\n",
        "from sklearn.metrics import confusion_matrix\n",
        "import matplotlib.pyplot as plt\n",
        "import seaborn as sns\n",
        "%matplotlib inline\n",
        "\n",
        "def conf_matrix(actual, predicted):\n",
        "    cm = confusion_matrix(actual, predicted)\n",
        "    sns.heatmap(cm, xticklabels=['predicted_negative', 'predicted_positive'], \n",
        "                yticklabels=['actual_negative', 'actual_positive'], annot=True,\n",
        "                fmt='d', annot_kws={'fontsize':20}, cmap=\"YlGnBu\");\n",
        "\n",
        "    true_neg, false_pos = cm[0]\n",
        "    false_neg, true_pos = cm[1]\n",
        "\n",
        "    accuracy = round((true_pos + true_neg) / (true_pos + true_neg + false_pos + false_neg),3)\n",
        "    precision = round((true_pos) / (true_pos + false_pos),3)\n",
        "    recall = round((true_pos) / (true_pos + false_neg),3)\n",
        "    f1 = round(2 * (precision * recall) / (precision + recall),3)\n",
        "\n",
        "    cm_results = [accuracy, precision, recall, f1]\n",
        "    return cm_results"
      ]
    }
  ],
  "metadata": {
    "kernelspec": {
      "display_name": "Python 3 (ipykernel)",
      "language": "python",
      "name": "python3"
    },
    "language_info": {
      "codemirror_mode": {
        "name": "ipython",
        "version": 3
      },
      "file_extension": ".py",
      "mimetype": "text/x-python",
      "name": "python",
      "nbconvert_exporter": "python",
      "pygments_lexer": "ipython3",
      "version": "3.9.7"
    },
    "colab": {
      "name": "Quora_Insincere_Questions.ipynb",
      "provenance": []
    }
  },
  "nbformat": 4,
  "nbformat_minor": 5
}